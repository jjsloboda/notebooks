{
 "cells": [
  {
   "cell_type": "code",
   "execution_count": 21,
   "id": "bc0684c8",
   "metadata": {},
   "outputs": [],
   "source": [
    "xml_doc = \"\"\"<Document>\n",
    "<SelfClosingTag\n",
    "  attr1=\"val1\"\n",
    "  attr2=\"val2\"\n",
    "  attr3=\"val3\"\n",
    "  />\n",
    "</Document>\n",
    "\"\"\""
   ]
  },
  {
   "cell_type": "code",
   "execution_count": 32,
   "id": "a8156f98",
   "metadata": {},
   "outputs": [],
   "source": [
    "other_xml_doc = \"\"\"<Officers>\n",
    "    <RepNo>1234</RepNo>\n",
    "    <OrgPermID>23415546</OrgPermID>\n",
    "    <CompanyName>Fake Corp</CompanyName>\n",
    "    <Production Date=\"2021-09-06T10:00:00\" />\n",
    "    <OfficersInfo>\n",
    "        <Officer ID=\"1234\" Status=\"Either\" Rank=\"6\" Active=\"1\" OfficerPermID=\"5432\">\n",
    "            <Person ID=\"56432\" Active=\"1\" PersonPermID=\"664534256\" />\n",
    "            <Submission Type=\"ASDF 53246\" Year=\"2020\" Month=\"07\" Day=\"12\" />\n",
    "            <Submission Type=\"GFD 8765\" Year=\"2020\" Month=\"08\" Day=\"18\" />\n",
    "        </Officer>\n",
    "    </OfficersInfo>\n",
    "</Officers>\n",
    "\"\"\""
   ]
  },
  {
   "cell_type": "code",
   "execution_count": 43,
   "id": "353c6f30",
   "metadata": {},
   "outputs": [
    {
     "data": {
      "text/plain": [
       "[Submission(Type='ASDF 53246', Year='2020', Month='07', Day='12'),\n",
       " Submission(Type='GFD 8765', Year='2020', Month='08', Day='18')]"
      ]
     },
     "execution_count": 43,
     "metadata": {},
     "output_type": "execute_result"
    }
   ],
   "source": [
    "#from lxml import etree\n",
    "import xml.etree.ElementTree as ET\n",
    "from io import StringIO\n",
    "\n",
    "parser = ET.XMLParser()\n",
    "tree = ET.XML(other_xml_doc, parser)\n",
    "#etree.tostring(tree.getroot(), pretty_print=True, method=\"xml\")\n",
    "\n",
    "[e.items() for e in tree.findall(\"OfficersInfo/Officer/Submission\")]\n",
    "\n",
    "from dataclasses import dataclass\n",
    "\n",
    "@dataclass\n",
    "class Submission:\n",
    "  Type: str\n",
    "  Year: int\n",
    "  Month: int\n",
    "  Day: int\n",
    "  \n",
    "[Submission(**dict(e.items())) for e in tree.findall(\"OfficersInfo/Officer/Submission\")]"
   ]
  },
  {
   "cell_type": "raw",
   "id": "fc7a3cca",
   "metadata": {},
   "source": []
  },
  {
   "cell_type": "code",
   "execution_count": null,
   "id": "9b6cb0df",
   "metadata": {},
   "outputs": [],
   "source": []
  }
 ],
 "metadata": {
  "kernelspec": {
   "display_name": "Python 3 (ipykernel)",
   "language": "python",
   "name": "python3"
  },
  "language_info": {
   "codemirror_mode": {
    "name": "ipython",
    "version": 3
   },
   "file_extension": ".py",
   "mimetype": "text/x-python",
   "name": "python",
   "nbconvert_exporter": "python",
   "pygments_lexer": "ipython3",
   "version": "3.9.6"
  }
 },
 "nbformat": 4,
 "nbformat_minor": 5
}
